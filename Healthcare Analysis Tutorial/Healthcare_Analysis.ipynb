{
  "nbformat": 4,
  "nbformat_minor": 0,
  "metadata": {
    "colab": {
      "name": "Healthcare Analysis.ipynb",
      "provenance": []
    },
    "kernelspec": {
      "name": "python3",
      "display_name": "Python 3"
    },
    "language_info": {
      "name": "python"
    }
  },
  "cells": [
    {
      "cell_type": "markdown",
      "metadata": {
        "id": "3U3k09TKnk23"
      },
      "source": [
        "# **Healthcare: Opioid Analysis**\n",
        "\n",
        "<body>\n",
        "<img src=\"https://thumbor.forbes.com/thumbor/fit-in/1200x0/filters%3Aformat%28jpg%29/https%3A%2F%2Fspecials-images.forbesimg.com%2Fimageserve%2F5dbb4182d85e3000078fddae%2F0x0.jpg\"/>\n",
        "</body>\n",
        "\n",
        "**Alpha Insurance is a large corporate Insurance firm based in the USA. Specialising in Healthcare insurance for large hospitals and practices they have set a name for themselves in the Healthcare Insurance sector. Alpha Insurance has been receiving a lot of healthcare claims due to a recent Opioid epidemic. To battle this, the company wants to be aware of which healthcare professions are more likely to prescribe opioids. This way they can offer further advice to the potential client and be aware of potential risk before it happens.**\n",
        "\n",
        "\n",
        "***Having collected data of multiple US healthcare practices from the CMS, Alpha Insurance would like you to come up with a prediction system to identify potential opioid prescribing practices.***"
      ]
    },
    {
      "cell_type": "markdown",
      "metadata": {
        "id": "_Y-FW2_4qKYl"
      },
      "source": [
        "## **1. Import Libraries and Data needed**\n",
        "<body>\n",
        "<img src=\"https://offloadmedia.feverup.com/secretldn.com/wp-content/uploads/2016/06/18075319/Libraries-1024x901.jpg\" width=\"500\"/>\n",
        "</body>\n",
        "\n",
        "Here we are importing all the libraries that we will need to analyse the data.\n",
        "\n",
        "Libraries contain all the little functions and tools that other programmers have created. This way we don't have to spend hours recreating code. Instead, we just call out the function name and it performs all the steps we want it to do."
      ]
    },
    {
      "cell_type": "code",
      "metadata": {
        "id": "qvs7CmUnUzn-"
      },
      "source": [
        "import pandas as pd\n",
        "#Importing all modules here\n",
        "import os\n",
        "import sys\n",
        "import re\n",
        "import numpy as np\n",
        "import pickle\n",
        "import matplotlib.pyplot as plt\n",
        "import pandas as pd\n",
        "import xgboost as xgb\n",
        "from sklearn import metrics\n",
        "%pylab inline\n",
        "\n",
        "import re\n",
        "from bokeh.io import output_notebook\n",
        "from bokeh.sampledata import us_states\n",
        "from bokeh.plotting import figure, show, output_file, ColumnDataSource\n",
        "from bokeh.palettes import brewer\n",
        "from bokeh.models import HoverTool, Range1d\n",
        "from bokeh.models import (CDSView, ColorBar, ColumnDataSource,\n",
        "                          CustomJS, CustomJSFilter, \n",
        "                          GeoJSONDataSource, HoverTool,\n",
        "                          LinearColorMapper, Slider)"
      ],
      "execution_count": null,
      "outputs": []
    },
    {
      "cell_type": "markdown",
      "metadata": {
        "id": "px_JB9TNytxr"
      },
      "source": [
        "Load in the data..."
      ]
    },
    {
      "cell_type": "code",
      "metadata": {
        "id": "rW3g0l4uXE62"
      },
      "source": [
        "Prescriber = pd.read_csv(r\"https://raw.githubusercontent.com/ssonkol/Medication_Prediction/master/Healthcare%20Analysis%20Tutorial/prescriber-info.csv\", header=0, sep=\",\", nrows = 10000000)\n",
        "overdoses = pd.read_csv(r\"https://raw.githubusercontent.com/ssonkol/Medication_Prediction/master/Healthcare%20Analysis%20Tutorial/overdoses.csv\", header=0, sep=\",\", nrows = 10000000)\n",
        "opioids = pd.read_csv(r\"https://raw.githubusercontent.com/ssonkol/Medication_Prediction/master/Healthcare%20Analysis%20Tutorial/opioids.csv\", header=0, sep=\",\", nrows = 10000000)"
      ],
      "execution_count": null,
      "outputs": []
    },
    {
      "cell_type": "markdown",
      "metadata": {
        "id": "HGW9mhX4yypX"
      },
      "source": [
        "### **Check The Data**\n",
        "\n",
        "What looks interesting in the table?\n",
        "What predictions can you make with this data?"
      ]
    },
    {
      "cell_type": "code",
      "metadata": {
        "id": "OXQJLfdyXT00"
      },
      "source": [
        "Prescriber.head()"
      ],
      "execution_count": null,
      "outputs": []
    },
    {
      "cell_type": "code",
      "metadata": {
        "id": "3W2HhJZQaJTs"
      },
      "source": [
        "overdoses.head()"
      ],
      "execution_count": null,
      "outputs": []
    },
    {
      "cell_type": "code",
      "metadata": {
        "id": "TantvnGLw5_W"
      },
      "source": [
        "opioids"
      ],
      "execution_count": null,
      "outputs": []
    },
    {
      "cell_type": "markdown",
      "metadata": {
        "id": "QXhvEuIvYDUF"
      },
      "source": [
        "## **2. Set Up The Model**\n",
        "\n",
        "<body>\n",
        "<img src=\"https://beyondtheory.co.uk/storage/images/other/2016/08/Beyond-Theory-Data-Analysis-Landing-Page-graphic.png\" width=\"800\"/>\n",
        "</body>\n",
        "\n",
        "Teaching models to do things is essentially how you revise or learn a topic you are learning.\n",
        "\n",
        "\n",
        "1.   Look at the material and try to give a correct answer to a question given\n",
        "2.   Check your answer against the mark scheme\n",
        "3.   Repeat steps 1 and 2 over a set amount of time to improve your score\n",
        "\n",
        "This is exactly how we teach models to handle tasks.\n",
        "\n",
        "In this example, we are creating a predictive model for dentists.\n",
        "\n",
        "\n",
        "*   X is the data the model looks at to make a prediction - i.e. the material and questions\n",
        "*   Y is the data the model looks at to see if its prediction was correct - i.e. the mark scheme\n",
        "\n",
        "Note: \n",
        "\n",
        "1 = opioid prescriber\n",
        "\n",
        "\n",
        "0 = not an opioid prescriber\n",
        "\n",
        "\n",
        "\n",
        "\n",
        "\n"
      ]
    },
    {
      "cell_type": "code",
      "metadata": {
        "id": "2rn_0981Xo9o"
      },
      "source": [
        "#Select our specialty\n",
        "dentists = Prescriber[Prescriber['Specialty'] == 'Dentist']\n",
        "\n",
        "dentists['Gender'] = pd.get_dummies(dentists['Gender'])\n",
        "\n",
        "target = 'Opioid.Prescriber'\n",
        "X = dentists.drop(['Gender','NPI', 'Specialty', 'Credentials', 'State', target], 1)\n",
        "y = dentists[target]\n",
        "(X.shape, y.shape)"
      ],
      "execution_count": null,
      "outputs": []
    },
    {
      "cell_type": "markdown",
      "metadata": {
        "id": "jRb9S7M1f_1L"
      },
      "source": [
        "Now let us take a look at the data!"
      ]
    },
    {
      "cell_type": "code",
      "metadata": {
        "id": "D2itcyzRYF97"
      },
      "source": [
        "X.head()"
      ],
      "execution_count": null,
      "outputs": []
    },
    {
      "cell_type": "markdown",
      "metadata": {
        "id": "YyloQWktgFnb"
      },
      "source": [
        "Our training data essentially contains a tally of all drug prescriptions made per medical specialist. As you can see, the specialists gender,npi, specialty, credentials, and state have been taken out. \n",
        "\n",
        "This is because we don't want the model to take these factors into account - only the list of drug names should be attributed to the specialty.\n",
        "\n",
        "As for our y data, we are only looking at whether or not the specialist is an opioid prescriber."
      ]
    },
    {
      "cell_type": "code",
      "metadata": {
        "id": "8ZmnHEaz0J5p"
      },
      "source": [
        "y.head()"
      ],
      "execution_count": null,
      "outputs": []
    },
    {
      "cell_type": "code",
      "metadata": {
        "id": "sMmEYqsMYW4R"
      },
      "source": [
        "from sklearn.model_selection import train_test_split\n",
        "alg = xgb.XGBClassifier(\n",
        "        learning_rate =0.1,\n",
        "        n_estimators=1000,\n",
        "        max_depth=4,\n",
        "        min_child_weight=1,\n",
        "        gamma=0,\n",
        "        subsample=0.8,\n",
        "        colsample_bytree=0.8,\n",
        "        nthread=4,\n",
        "        objective=\"binary:logistic\",\n",
        "        scale_pos_weight=1,\n",
        "        seed=27) \n",
        "\n",
        "X_train, X_test, y_train, y_test = train_test_split(\n",
        "    X, y, test_size=0.25, random_state=42)"
      ],
      "execution_count": null,
      "outputs": []
    },
    {
      "cell_type": "code",
      "metadata": {
        "id": "kQDd2B4xYdXT"
      },
      "source": [
        "#xgBoost Model\n",
        "metrics = ['auc', 'map']\n",
        "xgtrain = xgb.DMatrix(X_train,y_train)#takes in x and y variables\n",
        "param = alg.get_xgb_params()\n",
        "cvresult = xgb.cv(param,\n",
        "                  xgtrain,\n",
        "                  num_boost_round=alg.get_params()['n_estimators'],\n",
        "                  nfold=7,\n",
        "                  metrics=metrics,\n",
        "                  early_stopping_rounds=50)\n",
        "alg.set_params(n_estimators=cvresult.shape[0])\n",
        "#Predict training set:\n",
        "alg.fit(X_train,y_train,eval_metric=metrics)\n",
        "xgbooSt = alg.fit(X_train,y_train,eval_metric=metrics)\n",
        "# Show features, rated by fscore\n",
        "features = alg._Booster.get_fscore()\n",
        "feat_imp = pd.Series(features).sort_values(ascending=False)\n",
        "feat_imp[:50].plot(kind='bar', title='Feature Importances', figsize=(9,6))\n",
        "plt.ylabel('Feature Importance Score')"
      ],
      "execution_count": null,
      "outputs": []
    },
    {
      "cell_type": "markdown",
      "metadata": {
        "id": "9hMm0ghIv3-O"
      },
      "source": [
        "## **3. Model Review**\n",
        "\n",
        "<body>\n",
        "<img src=\"https://t3.ftcdn.net/jpg/03/28/54/50/360_F_328545004_Q7tujNu0VpoTXUqlGad4LyEVxpNSeoYu.jpg\"/>\n",
        "</body>\n"
      ]
    },
    {
      "cell_type": "code",
      "metadata": {
        "id": "ubOxa_zOv9VP"
      },
      "source": [
        "# sort for human readability\n",
        "import operator\n",
        "sorted_features = sorted(features.items(), key=operator.itemgetter(1))\n",
        "print('features by importance', sorted_features)"
      ],
      "execution_count": null,
      "outputs": []
    },
    {
      "cell_type": "code",
      "metadata": {
        "id": "89NNNrmkYinA"
      },
      "source": [
        "from sklearn import metrics\n",
        "pred = alg.predict(X_test)\n",
        "predprob = alg.predict_proba(X_test)[:,1]\n",
        "X_train, X_test, y_train, y_test = train_test_split(\n",
        "    X, y, test_size=0.25, random_state=42)\n",
        "#Print model report:\n",
        "print(\"Accuracy : %.4g\" % metrics.accuracy_score(y_test, pred))\n",
        "print(\"AUC Score (Train): %f\" % metrics.roc_auc_score(y_test, predprob))\n",
        "mean_dentists = dentists.groupby('Opioid.Prescriber').mean()\n",
        "relevant_stats = [mean_dentists[feature] for feature in features]\n",
        "pd.DataFrame(relevant_stats).plot(kind=\"bar\", figsize=(30,10))"
      ],
      "execution_count": null,
      "outputs": []
    },
    {
      "cell_type": "code",
      "metadata": {
        "id": "uWocE4cOY2yb"
      },
      "source": [
        "top_features = list(features.keys())\n",
        "top_features"
      ],
      "execution_count": null,
      "outputs": []
    },
    {
      "cell_type": "markdown",
      "metadata": {
        "id": "XyOiV1CAq_rg"
      },
      "source": [
        "##**Things To Try**\n",
        "\n",
        "Copy one of the specialties from the list below and apply it to the code where we selected a specialty.\n",
        "\n",
        "* What drugs are they more likely to prescribe?\n",
        "*   Are these Opioids?\n",
        "*   Therefore, are they more likely to prescribe opioids?\n",
        "\n",
        "\n",
        "\n"
      ]
    },
    {
      "cell_type": "code",
      "metadata": {
        "id": "dcsQPC0Xxhko"
      },
      "source": [
        "Prescriber['Specialty'].value_counts()"
      ],
      "execution_count": null,
      "outputs": []
    }
  ]
}
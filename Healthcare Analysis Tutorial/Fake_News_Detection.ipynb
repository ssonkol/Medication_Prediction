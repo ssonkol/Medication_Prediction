{
  "nbformat": 4,
  "nbformat_minor": 0,
  "metadata": {
    "colab": {
      "name": "Fake News Detection.ipynb",
      "provenance": [],
      "toc_visible": true
    },
    "kernelspec": {
      "name": "python3",
      "display_name": "Python 3"
    },
    "language_info": {
      "name": "python"
    }
  },
  "cells": [
    {
      "cell_type": "markdown",
      "metadata": {
        "id": "qUsEf4iavo3u"
      },
      "source": [
        "# **Fake News**\n",
        "\n",
        "<body>\n",
        "<img src=\"https://conversationagent.typepad.com/.a/6a00d8341c03bb53ef0147e02d8fa5970b-pi\" width=\"870\"/>\n",
        "</body>\n",
        "\n",
        "**The Daily Inspector was a popular news agency which was once trusted for its reliable and speedy news coverage with over 4 million readers worldwide.**\n",
        "\n",
        "\n",
        "**A recent lapse in the news agency’s fact checking policy meant that over 1,000 articles went out within the last 2 months with incorrect information; leading to large criticism and a significant drop in the agency’s number of readers.**\n",
        "\n",
        "**To rectify this, The Daily Inspector has hired you to find a way of locating these fake articles; so that they can be deleted or corrected, and suggest potential ways they can prevent such a thing from happening again.**\n"
      ]
    },
    {
      "cell_type": "markdown",
      "metadata": {
        "id": "SAJ8sQB8u7lj"
      },
      "source": [
        "## **1. Import Libraries and Data needed**\n",
        "<body>\n",
        "<img src=\"https://offloadmedia.feverup.com/secretldn.com/wp-content/uploads/2016/06/18075319/Libraries-1024x901.jpg\" width=\"600\"/>\n",
        "</body>\n",
        "\n",
        "Here we are importing all the libraries that we will need to analyse the data.\n",
        "\n",
        "Libraries contain all the little functions and tools that other programmers have created. This way we don't have to spend hours recreating code. Instead, we just call out the function name and it performs all the steps we want it to do."
      ]
    },
    {
      "cell_type": "code",
      "metadata": {
        "colab": {
          "base_uri": "https://localhost:8080/"
        },
        "id": "91GhjKd9E3eu",
        "outputId": "5e02857c-c27b-46c8-f871-f3ba871bb36d"
      },
      "source": [
        "!pip install contractions"
      ],
      "execution_count": null,
      "outputs": [
        {
          "output_type": "stream",
          "name": "stdout",
          "text": [
            "Collecting contractions\n",
            "  Downloading contractions-0.0.58-py2.py3-none-any.whl (8.0 kB)\n",
            "Collecting textsearch>=0.0.21\n",
            "  Downloading textsearch-0.0.21-py2.py3-none-any.whl (7.5 kB)\n",
            "Collecting anyascii\n",
            "  Downloading anyascii-0.3.0-py3-none-any.whl (284 kB)\n",
            "\u001b[K     |████████████████████████████████| 284 kB 6.7 MB/s \n",
            "\u001b[?25hCollecting pyahocorasick\n",
            "  Downloading pyahocorasick-1.4.2.tar.gz (321 kB)\n",
            "\u001b[K     |████████████████████████████████| 321 kB 54.5 MB/s \n",
            "\u001b[?25hBuilding wheels for collected packages: pyahocorasick\n",
            "  Building wheel for pyahocorasick (setup.py) ... \u001b[?25l\u001b[?25hdone\n",
            "  Created wheel for pyahocorasick: filename=pyahocorasick-1.4.2-cp37-cp37m-linux_x86_64.whl size=85451 sha256=f09446402d8a61efc00fdbbde9565826daab582fd292852e835f4901799c5247\n",
            "  Stored in directory: /root/.cache/pip/wheels/25/19/a6/8f363d9939162782bb8439d886469756271abc01f76fbd790f\n",
            "Successfully built pyahocorasick\n",
            "Installing collected packages: pyahocorasick, anyascii, textsearch, contractions\n",
            "Successfully installed anyascii-0.3.0 contractions-0.0.58 pyahocorasick-1.4.2 textsearch-0.0.21\n"
          ]
        }
      ]
    },
    {
      "cell_type": "code",
      "metadata": {
        "id": "OFGRIGmG77t1"
      },
      "source": [
        "## Import Libraries\n",
        "import pandas as pd\n",
        "import numpy as np\n",
        "import matplotlib.pyplot as plt\n",
        "import nltk\n",
        "from nltk.stem import PorterStemmer\n",
        "import re\n",
        "import tensorflow\n",
        "from tensorflow.keras.layers import Embedding, Dense, LSTM\n",
        "from tensorflow.keras.preprocessing.sequence import pad_sequences\n",
        "from tensorflow.keras.models import Sequential\n",
        "from tensorflow.keras.preprocessing.text import one_hot\n",
        "from bs4 import BeautifulSoup\n",
        "from tqdm import tqdm\n",
        "from nltk.tokenize import word_tokenize\n",
        "from sklearn.feature_extraction.text import TfidfVectorizer, CountVectorizer\n",
        "\n",
        "from sklearn.model_selection import train_test_split\n",
        "from sklearn.linear_model import LogisticRegression\n",
        "from sklearn.naive_bayes import MultinomialNB\n",
        "from sklearn.metrics import accuracy_score, confusion_matrix, precision_score"
      ],
      "execution_count": null,
      "outputs": []
    },
    {
      "cell_type": "code",
      "metadata": {
        "colab": {
          "base_uri": "https://localhost:8080/"
        },
        "id": "nAF-B6ps7-Bu",
        "outputId": "e8315e36-9e1a-4df0-8576-23f636b95c06"
      },
      "source": [
        "## Import train dataset\n",
        "df = pd.read_csv('/content/train.csv',engine='python', encoding='utf-8', error_bad_lines=False)\n",
        "## Import test dataset\n",
        "test_data = pd.read_csv('/content/test.csv',engine='python', encoding='utf-8', error_bad_lines=False)"
      ],
      "execution_count": null,
      "outputs": [
        {
          "output_type": "stream",
          "name": "stderr",
          "text": [
            "Skipping line 810: unexpected end of data\n",
            "Skipping line 657: unexpected end of data\n"
          ]
        }
      ]
    },
    {
      "cell_type": "markdown",
      "metadata": {
        "id": "oetFrIdV8EXM"
      },
      "source": [
        "## **2. Exploratory Data Analysis & Text Processing**\n",
        "\n",
        "First let's inspect the data\n",
        "\n",
        "Note: \n",
        "\n",
        "1 = Fake News/Article\n",
        "\n",
        "0 = Not Fake News/Article\n"
      ]
    },
    {
      "cell_type": "code",
      "metadata": {
        "colab": {
          "base_uri": "https://localhost:8080/",
          "height": 206
        },
        "id": "ZFxJkmCk7-OR",
        "outputId": "c6f843e5-54ed-45df-ee88-50c8878444b5"
      },
      "source": [
        "df.head()"
      ],
      "execution_count": null,
      "outputs": [
        {
          "output_type": "execute_result",
          "data": {
            "text/html": [
              "<div>\n",
              "<style scoped>\n",
              "    .dataframe tbody tr th:only-of-type {\n",
              "        vertical-align: middle;\n",
              "    }\n",
              "\n",
              "    .dataframe tbody tr th {\n",
              "        vertical-align: top;\n",
              "    }\n",
              "\n",
              "    .dataframe thead th {\n",
              "        text-align: right;\n",
              "    }\n",
              "</style>\n",
              "<table border=\"1\" class=\"dataframe\">\n",
              "  <thead>\n",
              "    <tr style=\"text-align: right;\">\n",
              "      <th></th>\n",
              "      <th>id</th>\n",
              "      <th>title</th>\n",
              "      <th>author</th>\n",
              "      <th>text</th>\n",
              "      <th>label</th>\n",
              "    </tr>\n",
              "  </thead>\n",
              "  <tbody>\n",
              "    <tr>\n",
              "      <th>0</th>\n",
              "      <td>0</td>\n",
              "      <td>House Dem Aide: We Didn’t Even See Comey’s Let...</td>\n",
              "      <td>Darrell Lucus</td>\n",
              "      <td>House Dem Aide: We Didn’t Even See Comey’s Let...</td>\n",
              "      <td>1</td>\n",
              "    </tr>\n",
              "    <tr>\n",
              "      <th>1</th>\n",
              "      <td>1</td>\n",
              "      <td>FLYNN: Hillary Clinton, Big Woman on Campus - ...</td>\n",
              "      <td>Daniel J. Flynn</td>\n",
              "      <td>Ever get the feeling your life circles the rou...</td>\n",
              "      <td>0</td>\n",
              "    </tr>\n",
              "    <tr>\n",
              "      <th>2</th>\n",
              "      <td>2</td>\n",
              "      <td>Why the Truth Might Get You Fired</td>\n",
              "      <td>Consortiumnews.com</td>\n",
              "      <td>Why the Truth Might Get You Fired October 29, ...</td>\n",
              "      <td>1</td>\n",
              "    </tr>\n",
              "    <tr>\n",
              "      <th>3</th>\n",
              "      <td>3</td>\n",
              "      <td>15 Civilians Killed In Single US Airstrike Hav...</td>\n",
              "      <td>Jessica Purkiss</td>\n",
              "      <td>Videos 15 Civilians Killed In Single US Airstr...</td>\n",
              "      <td>1</td>\n",
              "    </tr>\n",
              "    <tr>\n",
              "      <th>4</th>\n",
              "      <td>4</td>\n",
              "      <td>Iranian woman jailed for fictional unpublished...</td>\n",
              "      <td>Howard Portnoy</td>\n",
              "      <td>Print \\nAn Iranian woman has been sentenced to...</td>\n",
              "      <td>1</td>\n",
              "    </tr>\n",
              "  </tbody>\n",
              "</table>\n",
              "</div>"
            ],
            "text/plain": [
              "   id  ... label\n",
              "0   0  ...     1\n",
              "1   1  ...     0\n",
              "2   2  ...     1\n",
              "3   3  ...     1\n",
              "4   4  ...     1\n",
              "\n",
              "[5 rows x 5 columns]"
            ]
          },
          "metadata": {},
          "execution_count": 5
        }
      ]
    },
    {
      "cell_type": "markdown",
      "metadata": {
        "id": "7dsaXQjjxc7M"
      },
      "source": [
        "Let's check if there are any null values in the data!\n",
        "\n",
        "Models can't make any predictions and we can't make any useful insights with null values in our data."
      ]
    },
    {
      "cell_type": "code",
      "metadata": {
        "colab": {
          "base_uri": "https://localhost:8080/"
        },
        "id": "sWPi_eDd7-Q4",
        "outputId": "2732cc06-25ed-484c-aa3b-2fc0454665b9"
      },
      "source": [
        "df.isnull().sum()"
      ],
      "execution_count": null,
      "outputs": [
        {
          "output_type": "execute_result",
          "data": {
            "text/plain": [
              "id         0\n",
              "title     21\n",
              "author    85\n",
              "text       2\n",
              "label      0\n",
              "dtype: int64"
            ]
          },
          "metadata": {},
          "execution_count": 6
        }
      ]
    },
    {
      "cell_type": "markdown",
      "metadata": {
        "id": "8hU1B3b0DHkw"
      },
      "source": [
        "#### **Data Prep**"
      ]
    },
    {
      "cell_type": "code",
      "metadata": {
        "id": "h68Eo2QEDMIL"
      },
      "source": [
        "# Assign nan in place of blanks in the text column\n",
        "df['text'] = df['text'].str.strip()\n",
        "df['text'] = df['text'].replace(r'^\\s*$', np.nan, regex=True)"
      ],
      "execution_count": null,
      "outputs": []
    },
    {
      "cell_type": "code",
      "metadata": {
        "id": "AV3E8VRw7-Ta"
      },
      "source": [
        "# Remove all rows where complaints column is nan\n",
        "df.dropna(subset=['text'], inplace=True)"
      ],
      "execution_count": null,
      "outputs": []
    },
    {
      "cell_type": "markdown",
      "metadata": {
        "id": "MelbxNm1DbHX"
      },
      "source": [
        "####**Check for duplicates**\n",
        "\n",
        "Having duplicates in any data isn't good. But it is especially important to creating effective and accurate models.\n",
        "\n",
        "Having data with no duplicates ensures that you will develop one, complete version of the truth allowing you to base strategic decisions on accurate data."
      ]
    },
    {
      "cell_type": "code",
      "metadata": {
        "colab": {
          "base_uri": "https://localhost:8080/"
        },
        "id": "Q7c0HD7XDaWY",
        "outputId": "ea177072-20e8-489d-f695-c410084ec53c"
      },
      "source": [
        "df.duplicated(subset=[\"text\"]).value_counts()"
      ],
      "execution_count": null,
      "outputs": [
        {
          "output_type": "execute_result",
          "data": {
            "text/plain": [
              "False    799\n",
              "True       2\n",
              "dtype: int64"
            ]
          },
          "metadata": {},
          "execution_count": 9
        }
      ]
    },
    {
      "cell_type": "markdown",
      "metadata": {
        "id": "u2BXigyTDgQj"
      },
      "source": [
        "As we can see, we have few duplicate entries for text column"
      ]
    },
    {
      "cell_type": "code",
      "metadata": {
        "colab": {
          "base_uri": "https://localhost:8080/",
          "height": 112
        },
        "id": "oAb_BrE9DaY5",
        "outputId": "1f1ed06a-a0a8-4b8f-c6ed-b2a5774adce5"
      },
      "source": [
        "dup = df[df.duplicated(subset=[\"text\"])]\n",
        "dup.head()"
      ],
      "execution_count": null,
      "outputs": [
        {
          "output_type": "execute_result",
          "data": {
            "text/html": [
              "<div>\n",
              "<style scoped>\n",
              "    .dataframe tbody tr th:only-of-type {\n",
              "        vertical-align: middle;\n",
              "    }\n",
              "\n",
              "    .dataframe tbody tr th {\n",
              "        vertical-align: top;\n",
              "    }\n",
              "\n",
              "    .dataframe thead th {\n",
              "        text-align: right;\n",
              "    }\n",
              "</style>\n",
              "<table border=\"1\" class=\"dataframe\">\n",
              "  <thead>\n",
              "    <tr style=\"text-align: right;\">\n",
              "      <th></th>\n",
              "      <th>id</th>\n",
              "      <th>title</th>\n",
              "      <th>author</th>\n",
              "      <th>text</th>\n",
              "      <th>label</th>\n",
              "    </tr>\n",
              "  </thead>\n",
              "  <tbody>\n",
              "    <tr>\n",
              "      <th>480</th>\n",
              "      <td>480</td>\n",
              "      <td>Watch: Muslim ‘Palestinians’ Declare “We follo...</td>\n",
              "      <td>admin</td>\n",
              "      <td>jewsnews © 2015 | JEWSNEWS | It's not news...u...</td>\n",
              "      <td>1</td>\n",
              "    </tr>\n",
              "    <tr>\n",
              "      <th>734</th>\n",
              "      <td>734</td>\n",
              "      <td>WikiLeaks Documents Reveal United Nations Inte...</td>\n",
              "      <td>Madeline</td>\n",
              "      <td>Click Here To Learn More About Alexandra's Per...</td>\n",
              "      <td>1</td>\n",
              "    </tr>\n",
              "  </tbody>\n",
              "</table>\n",
              "</div>"
            ],
            "text/plain": [
              "      id  ... label\n",
              "480  480  ...     1\n",
              "734  734  ...     1\n",
              "\n",
              "[2 rows x 5 columns]"
            ]
          },
          "metadata": {},
          "execution_count": 10
        }
      ]
    },
    {
      "cell_type": "code",
      "metadata": {
        "colab": {
          "base_uri": "https://localhost:8080/",
          "height": 112
        },
        "id": "lmsXtuOTDabZ",
        "outputId": "01947d45-a5b8-46b5-b9b8-bc5b9f739630"
      },
      "source": [
        "# print one duplicate entry\n",
        "df[df['text'] == dup.loc[480]['text']]"
      ],
      "execution_count": null,
      "outputs": [
        {
          "output_type": "execute_result",
          "data": {
            "text/html": [
              "<div>\n",
              "<style scoped>\n",
              "    .dataframe tbody tr th:only-of-type {\n",
              "        vertical-align: middle;\n",
              "    }\n",
              "\n",
              "    .dataframe tbody tr th {\n",
              "        vertical-align: top;\n",
              "    }\n",
              "\n",
              "    .dataframe thead th {\n",
              "        text-align: right;\n",
              "    }\n",
              "</style>\n",
              "<table border=\"1\" class=\"dataframe\">\n",
              "  <thead>\n",
              "    <tr style=\"text-align: right;\">\n",
              "      <th></th>\n",
              "      <th>id</th>\n",
              "      <th>title</th>\n",
              "      <th>author</th>\n",
              "      <th>text</th>\n",
              "      <th>label</th>\n",
              "    </tr>\n",
              "  </thead>\n",
              "  <tbody>\n",
              "    <tr>\n",
              "      <th>372</th>\n",
              "      <td>372</td>\n",
              "      <td>IRANIAN MISSILE ACCIDENTALLY DESTROYS IRANIAN ...</td>\n",
              "      <td>admin</td>\n",
              "      <td>jewsnews © 2015 | JEWSNEWS | It's not news...u...</td>\n",
              "      <td>1</td>\n",
              "    </tr>\n",
              "    <tr>\n",
              "      <th>480</th>\n",
              "      <td>480</td>\n",
              "      <td>Watch: Muslim ‘Palestinians’ Declare “We follo...</td>\n",
              "      <td>admin</td>\n",
              "      <td>jewsnews © 2015 | JEWSNEWS | It's not news...u...</td>\n",
              "      <td>1</td>\n",
              "    </tr>\n",
              "  </tbody>\n",
              "</table>\n",
              "</div>"
            ],
            "text/plain": [
              "      id  ... label\n",
              "372  372  ...     1\n",
              "480  480  ...     1\n",
              "\n",
              "[2 rows x 5 columns]"
            ]
          },
          "metadata": {},
          "execution_count": 12
        }
      ]
    },
    {
      "cell_type": "markdown",
      "metadata": {
        "id": "kkYBcjnDhpPW"
      },
      "source": [
        "**Question**\n",
        "\n",
        "Why would you want to remove these duplicate entries?"
      ]
    },
    {
      "cell_type": "markdown",
      "metadata": {
        "id": "LSFX3wa3DwfG"
      },
      "source": [
        "####**Drop duplicated Data & Nan values**"
      ]
    },
    {
      "cell_type": "code",
      "metadata": {
        "colab": {
          "base_uri": "https://localhost:8080/"
        },
        "id": "C6kPiqJxDaf-",
        "outputId": "0bc02b56-8804-4a90-e20d-4d1e0b1668d5"
      },
      "source": [
        "# drop duplicated data\n",
        "df = df.drop_duplicates(subset={\"text\"}, keep='first', inplace=False)\n",
        "df.shape"
      ],
      "execution_count": null,
      "outputs": [
        {
          "output_type": "execute_result",
          "data": {
            "text/plain": [
              "(799, 5)"
            ]
          },
          "metadata": {},
          "execution_count": 28
        }
      ]
    },
    {
      "cell_type": "markdown",
      "metadata": {
        "id": "CdI7IN42D66t"
      },
      "source": [
        "####**Replace null values**"
      ]
    },
    {
      "cell_type": "code",
      "metadata": {
        "colab": {
          "base_uri": "https://localhost:8080/"
        },
        "id": "JzGzb3S-DajE",
        "outputId": "e4a38c29-9b73-4074-999d-889ae8195836"
      },
      "source": [
        "# Checking for missing values in the dataset\n",
        "df.isnull().sum()"
      ],
      "execution_count": null,
      "outputs": [
        {
          "output_type": "execute_result",
          "data": {
            "text/plain": [
              "id         0\n",
              "title     21\n",
              "author    83\n",
              "text       0\n",
              "label      0\n",
              "dtype: int64"
            ]
          },
          "metadata": {},
          "execution_count": 29
        }
      ]
    },
    {
      "cell_type": "code",
      "metadata": {
        "id": "RJBQuY5UEApB"
      },
      "source": [
        "# dropping the nan values\n",
        "df = df.fillna('')"
      ],
      "execution_count": null,
      "outputs": []
    },
    {
      "cell_type": "code",
      "metadata": {
        "colab": {
          "base_uri": "https://localhost:8080/"
        },
        "id": "iwtVu1KC7-WD",
        "outputId": "5104c392-d1a8-496c-8579-8c1fa751b13d"
      },
      "source": [
        "# Now count the Unique values to check the data is balanced or not\n",
        "count = np.unique(df['label'], return_counts=True)\n",
        "count"
      ],
      "execution_count": null,
      "outputs": [
        {
          "output_type": "execute_result",
          "data": {
            "text/plain": [
              "(array([0, 1]), array([404, 395]))"
            ]
          },
          "metadata": {},
          "execution_count": 31
        }
      ]
    },
    {
      "cell_type": "markdown",
      "metadata": {
        "id": "R2yfo4JlTIyd"
      },
      "source": [
        "Now let's see that graphically"
      ]
    },
    {
      "cell_type": "code",
      "metadata": {
        "colab": {
          "base_uri": "https://localhost:8080/",
          "height": 296
        },
        "id": "DryA8rqf7-YV",
        "outputId": "55b89dcd-cab6-4138-ada7-c13d7e1f5a81"
      },
      "source": [
        "import seaborn as sns\n",
        "sns.countplot(x='label', data = df)"
      ],
      "execution_count": null,
      "outputs": [
        {
          "output_type": "execute_result",
          "data": {
            "text/plain": [
              "<matplotlib.axes._subplots.AxesSubplot at 0x7fb0d8419e90>"
            ]
          },
          "metadata": {},
          "execution_count": 17
        },
        {
          "output_type": "display_data",
          "data": {
            "image/png": "[encoded data removed]",
            "text/plain": [
              "<Figure size 432x288 with 1 Axes>"
            ]
          },
          "metadata": {
            "needs_background": "light"
          }
        }
      ]
    },
    {
      "cell_type": "markdown",
      "metadata": {
        "id": "q8_tu43nTeRj"
      },
      "source": [
        "####**Extra EDA**\n",
        "\n",
        "Let's check the 10 authors who created the most articles with fake news and compare them to the top 20 authors who created accurate articles (not fake)"
      ]
    },
    {
      "cell_type": "code",
      "metadata": {
        "colab": {
          "base_uri": "https://localhost:8080/",
          "height": 412
        },
        "id": "pEljdykDaVTa",
        "outputId": "ffcab0f5-e969-4fb5-cf73-0aec4f29ba2c"
      },
      "source": [
        "df.loc[df['label'] == 1]['author'].value_counts()[:10].sort_values().plot(kind = 'barh',figsize=(18,6))"
      ],
      "execution_count": null,
      "outputs": [
        {
          "output_type": "execute_result",
          "data": {
            "text/plain": [
              "<matplotlib.axes._subplots.AxesSubplot at 0x7f9f5e704f10>"
            ]
          },
          "metadata": {},
          "execution_count": 26
        },
        {
          "output_type": "display_data",
          "data": {
            "image/png": "[encoded data removed]",
            "text/plain": [
              "<Figure size 1296x432 with 1 Axes>"
            ]
          },
          "metadata": {
            "needs_background": "light"
          }
        }
      ]
    },
    {
      "cell_type": "code",
      "metadata": {
        "colab": {
          "base_uri": "https://localhost:8080/",
          "height": 388
        },
        "id": "ln1GGEagbqxm",
        "outputId": "e26ff1b3-c06b-48e9-c8f1-07525e912073"
      },
      "source": [
        "df.loc[df['label'] == 0]['author'].value_counts()[:10].sort_values().plot(kind = 'barh',figsize=(18,6))"
      ],
      "execution_count": null,
      "outputs": [
        {
          "output_type": "execute_result",
          "data": {
            "text/plain": [
              "<matplotlib.axes._subplots.AxesSubplot at 0x7f9f5e6135d0>"
            ]
          },
          "metadata": {},
          "execution_count": 27
        },
        {
          "output_type": "display_data",
          "data": {
            "image/png": "[encoded data removed]",
            "text/plain": [
              "<Figure size 1296x432 with 1 Axes>"
            ]
          },
          "metadata": {
            "needs_background": "light"
          }
        }
      ]
    },
    {
      "cell_type": "markdown",
      "metadata": {
        "id": "ktpFtc8vEFT-"
      },
      "source": [
        "###**Preprocessing Text**\n",
        "\n",
        "We will perform the below preprocessing tasks:\n",
        "\n",
        "- Convert everything to lowercase - We don't want our model to think having capitals and non capitals in text are significant indications of an article being fake or not... So let's set everything to lower case.\n",
        "- Remove HTML tags\n",
        "- Remove URLs from sentences\n",
        "- Contraction mapping - This essentially fixes and expands shortened words - you're -> you are\n",
        "- Eliminate punctuations and special characters\n",
        "- Remove stopwords - words that are usually irrelevant to the meaning of a piece of text\n",
        "- Stem words in text - This essentially removes the suffix of a word and gives back the base/root of a word (e.g. Flying becomes Fly)"
      ]
    },
    {
      "cell_type": "code",
      "metadata": {
        "id": "HjV70TkaEuJL"
      },
      "source": [
        "from nltk.corpus import stopwords"
      ],
      "execution_count": null,
      "outputs": []
    },
    {
      "cell_type": "code",
      "metadata": {
        "colab": {
          "base_uri": "https://localhost:8080/"
        },
        "id": "vtVrNUP_8K4b",
        "outputId": "cd7ebd8b-412b-422d-bd08-cee9e51879e5"
      },
      "source": [
        "nltk.download('stopwords')\n",
        "nltk.download('punkt')"
      ],
      "execution_count": null,
      "outputs": [
        {
          "output_type": "stream",
          "name": "stdout",
          "text": [
            "[nltk_data] Downloading package stopwords to /root/nltk_data...\n",
            "[nltk_data]   Unzipping corpora/stopwords.zip.\n",
            "[nltk_data] Downloading package punkt to /root/nltk_data...\n",
            "[nltk_data]   Unzipping tokenizers/punkt.zip.\n"
          ]
        },
        {
          "output_type": "execute_result",
          "data": {
            "text/plain": [
              "True"
            ]
          },
          "metadata": {},
          "execution_count": 33
        }
      ]
    },
    {
      "cell_type": "code",
      "metadata": {
        "colab": {
          "base_uri": "https://localhost:8080/"
        },
        "id": "E-_U2yEkEoPI",
        "outputId": "e38f1957-4610-4e03-89f3-3fb227bca1d4"
      },
      "source": [
        "stopword_list = stopwords.words('english')\n",
        "print(stopword_list)"
      ],
      "execution_count": null,
      "outputs": [
        {
          "output_type": "stream",
          "name": "stdout",
          "text": [
            "['i', 'me', 'my', 'myself', 'we', 'our', 'ours', 'ourselves', 'you', \"you're\", \"you've\", \"you'll\", \"you'd\", 'your', 'yours', 'yourself', 'yourselves', 'he', 'him', 'his', 'himself', 'she', \"she's\", 'her', 'hers', 'herself', 'it', \"it's\", 'its', 'itself', 'they', 'them', 'their', 'theirs', 'themselves', 'what', 'which', 'who', 'whom', 'this', 'that', \"that'll\", 'these', 'those', 'am', 'is', 'are', 'was', 'were', 'be', 'been', 'being', 'have', 'has', 'had', 'having', 'do', 'does', 'did', 'doing', 'a', 'an', 'the', 'and', 'but', 'if', 'or', 'because', 'as', 'until', 'while', 'of', 'at', 'by', 'for', 'with', 'about', 'against', 'between', 'into', 'through', 'during', 'before', 'after', 'above', 'below', 'to', 'from', 'up', 'down', 'in', 'out', 'on', 'off', 'over', 'under', 'again', 'further', 'then', 'once', 'here', 'there', 'when', 'where', 'why', 'how', 'all', 'any', 'both', 'each', 'few', 'more', 'most', 'other', 'some', 'such', 'no', 'nor', 'not', 'only', 'own', 'same', 'so', 'than', 'too', 'very', 's', 't', 'can', 'will', 'just', 'don', \"don't\", 'should', \"should've\", 'now', 'd', 'll', 'm', 'o', 're', 've', 'y', 'ain', 'aren', \"aren't\", 'couldn', \"couldn't\", 'didn', \"didn't\", 'doesn', \"doesn't\", 'hadn', \"hadn't\", 'hasn', \"hasn't\", 'haven', \"haven't\", 'isn', \"isn't\", 'ma', 'mightn', \"mightn't\", 'mustn', \"mustn't\", 'needn', \"needn't\", 'shan', \"shan't\", 'shouldn', \"shouldn't\", 'wasn', \"wasn't\", 'weren', \"weren't\", 'won', \"won't\", 'wouldn', \"wouldn't\"]\n"
          ]
        }
      ]
    },
    {
      "cell_type": "code",
      "metadata": {
        "id": "2poYz0PBE9f7"
      },
      "source": [
        "# let us use the contractions package to fix and expand shortened words - you're -> you are\n",
        "import contractions\n",
        "def decontracted(sentance):\n",
        "    expanded_words = []    \n",
        "    for word in sentance.split():\n",
        "      # using contractions.fix to expand the shortened words\n",
        "      expanded_words.append(contractions.fix(word))   \n",
        "\n",
        "    expanded_text = ' '.join(expanded_words)\n",
        "    return expanded_text"
      ],
      "execution_count": null,
      "outputs": []
    },
    {
      "cell_type": "code",
      "metadata": {
        "id": "eoGibiQ0E9jW"
      },
      "source": [
        "def sentence_clean(sentence):\n",
        "    # change sentence to lower case\n",
        "    sentence = sentence.lower()\n",
        "    # removing URL from sentence\n",
        "    sentence = re.sub(r\"http\\S+\", \"\", sentence)\n",
        "    # removing HTML tags\n",
        "    sentence = BeautifulSoup(sentence, 'lxml').get_text()\n",
        "    # removing contraction of words from sentence   # call decontracted funtion for it\n",
        "    sentence = decontracted(sentence)\n",
        "    # removing digits\n",
        "    sentence = re.sub(\"\\S*\\d\\S*\", \"\", sentence).strip()\n",
        "    # removing special character\n",
        "    sentence = re.sub('[^A-Za-z]+', ' ', sentence)\n",
        "    \n",
        "    return sentence"
      ],
      "execution_count": null,
      "outputs": []
    },
    {
      "cell_type": "code",
      "metadata": {
        "id": "6pftasaVE9mI"
      },
      "source": [
        "# Use Stemming \n",
        "ps = PorterStemmer()\n",
        "\n",
        "# Performing the preprocessing steps on all messages\n",
        "def preprocess(document):\n",
        "    preprocessed_reviews = []\n",
        "    # tqdm is for printing the status bar\n",
        "    for sentence in tqdm(document):\n",
        "        # call sentance_clean function to clean text\n",
        "        sentence = sentence_clean(sentence)\n",
        "        # tokenize into words\n",
        "        words = word_tokenize(sentence)\n",
        "        # remove stop words\n",
        "        tokens = [ps.stem(word) for word in words if word not in stopword_list]\n",
        "\n",
        "        # join words to make sentence\n",
        "        sentence = \" \".join(tokens).strip()\n",
        "\n",
        "        preprocessed_reviews.append(sentence)\n",
        "        \n",
        "    return preprocessed_reviews"
      ],
      "execution_count": null,
      "outputs": []
    },
    {
      "cell_type": "code",
      "metadata": {
        "colab": {
          "base_uri": "https://localhost:8080/"
        },
        "id": "wBy9ePzJFLkx",
        "outputId": "d840a19b-e8b8-4597-af39-899b8d607076"
      },
      "source": [
        "%%time\n",
        "corpus = preprocess(df['text'])"
      ],
      "execution_count": null,
      "outputs": [
        {
          "output_type": "stream",
          "name": "stderr",
          "text": [
            "100%|██████████| 799/799 [00:17<00:00, 46.40it/s]"
          ]
        },
        {
          "output_type": "stream",
          "name": "stdout",
          "text": [
            "CPU times: user 17 s, sys: 81.7 ms, total: 17.1 s\n",
            "Wall time: 17.2 s\n"
          ]
        },
        {
          "output_type": "stream",
          "name": "stderr",
          "text": [
            "\n"
          ]
        }
      ]
    },
    {
      "cell_type": "markdown",
      "metadata": {
        "id": "u_AZNmy2GPI4"
      },
      "source": [
        "#### **Try to spot the differences in the text!**\n",
        "\n",
        "What has stemming the words done?"
      ]
    },
    {
      "cell_type": "code",
      "metadata": {
        "colab": {
          "base_uri": "https://localhost:8080/"
        },
        "id": "W6VGpV16FLnm",
        "outputId": "e61c3a21-6f29-496f-8a3a-3dddaf8c0935"
      },
      "source": [
        "print(\"Before preprocess\\n\", df['text'][1])\n",
        "print(\"***\"*40)\n",
        "print(\"After preprocess\\n\", corpus[1])"
      ],
      "execution_count": null,
      "outputs": [
        {
          "output_type": "stream",
          "name": "stdout",
          "text": [
            "Before preprocess\n",
            " Ever get the feeling your life circles the roundabout rather than heads in a straight line toward the intended destination? [Hillary Clinton remains the big woman on campus in leafy, liberal Wellesley, Massachusetts. Everywhere else votes her most likely to don her inauguration dress for the remainder of her days the way Miss Havisham forever wore that wedding dress.  Speaking of Great Expectations, Hillary Rodham overflowed with them 48 years ago when she first addressed a Wellesley graduating class. The president of the college informed those gathered in 1969 that the students needed “no debate so far as I could ascertain as to who their spokesman was to be” (kind of the like the Democratic primaries in 2016 minus the   terms unknown then even at a Seven Sisters school). “I am very glad that Miss Adams made it clear that what I am speaking for today is all of us —  the 400 of us,” Miss Rodham told her classmates. After appointing herself Edger Bergen to the Charlie McCarthys and Mortimer Snerds in attendance, the    bespectacled in granny glasses (awarding her matronly wisdom —  or at least John Lennon wisdom) took issue with the previous speaker. Despite becoming the first   to win election to a seat in the U. S. Senate since Reconstruction, Edward Brooke came in for criticism for calling for “empathy” for the goals of protestors as he criticized tactics. Though Clinton in her senior thesis on Saul Alinsky lamented “Black Power demagogues” and “elitist arrogance and repressive intolerance” within the New Left, similar words coming out of a Republican necessitated a brief rebuttal. “Trust,” Rodham ironically observed in 1969, “this is one word that when I asked the class at our rehearsal what it was they wanted me to say for them, everyone came up to me and said ‘Talk about trust, talk about the lack of trust both for us and the way we feel about others. Talk about the trust bust.’ What can you say about it? What can you say about a feeling that permeates a generation and that perhaps is not even understood by those who are distrusted?” The “trust bust” certainly busted Clinton’s 2016 plans. She certainly did not even understand that people distrusted her. After Whitewater, Travelgate, the vast   conspiracy, Benghazi, and the missing emails, Clinton found herself the distrusted voice on Friday. There was a load of compromising on the road to the broadening of her political horizons. And distrust from the American people —  Trump edged her 48 percent to 38 percent on the question immediately prior to November’s election —  stood as a major reason for the closing of those horizons. Clinton described her vanquisher and his supporters as embracing a “lie,” a “con,” “alternative facts,” and “a   assault on truth and reason. ” She failed to explain why the American people chose his lies over her truth. “As the history majors among you here today know all too well, when people in power invent their own facts and attack those who question them, it can mark the beginning of the end of a free society,” she offered. “That is not hyperbole. ” Like so many people to emerge from the 1960s, Hillary Clinton embarked upon a long, strange trip. From high school Goldwater Girl and Wellesley College Republican president to Democratic politician, Clinton drank in the times and the place that gave her a degree. More significantly, she went from idealist to cynic, as a comparison of her two Wellesley commencement addresses show. Way back when, she lamented that “for too long our leaders have viewed politics as the art of the possible, and the challenge now is to practice politics as the art of making what appears to be impossible possible. ” Now, as the big woman on campus but the odd woman out of the White House, she wonders how her current station is even possible. “Why aren’t I 50 points ahead?” she asked in September. In May she asks why she isn’t president. The woman famously dubbed a “congenital liar” by Bill Safire concludes that lies did her in —  theirs, mind you, not hers. Getting stood up on Election Day, like finding yourself the jilted bride on your wedding day, inspires dangerous delusions.\n",
            "************************************************************************************************************************\n",
            "After preprocess\n",
            " ever get feel life circl roundabout rather head straight line toward intend destin hillari clinton remain big woman campu leafi liber wellesley massachusett everywher els vote like inaugur dress remaind day way miss havisham forev wore wed dress speak great expect hillari rodham overflow year ago first address wellesley graduat class presid colleg inform gather student need debat far could ascertain spokesman kind like democrat primari minu term unknown even seven sister school glad miss adam made clear speak today us us miss rodham told classmat appoint edger bergen charli mccarthi mortim snerd attend bespectacl granni glass award matronli wisdom least john lennon wisdom took issu previou speaker despit becom first win elect seat senat sinc reconstruct edward brook came critic call empathi goal protestor critic tactic though clinton senior thesi saul alinski lament black power demagogu elitist arrog repress intoler within new left similar word come republican necessit brief rebutt trust rodham iron observ one word ask class rehears want say everyon came said talk trust talk lack trust us way feel other talk trust bust say say feel permeat gener perhap even understood distrust trust bust certainli bust clinton plan certainli even understand peopl distrust whitewat travelg vast conspiraci benghazi miss email clinton found distrust voic friday load compromis road broaden polit horizon distrust american peopl trump edg percent percent question immedi prior novemb elect stood major reason close horizon clinton describ vanquish support embrac lie con altern fact assault truth reason fail explain american peopl chose lie truth histori major among today know well peopl power invent fact attack question mark begin end free societi offer hyperbol like mani peopl emerg hillari clinton embark upon long strang trip high school goldwat girl wellesley colleg republican presid democrat politician clinton drank time place gave degre significantli went idealist cynic comparison two wellesley commenc address show way back lament long leader view polit art possibl challeng practic polit art make appear imposs possibl big woman campu odd woman white hous wonder current station even possibl point ahead ask septemb may ask presid woman famous dub congenit liar bill safir conclud lie mind get stood elect day like find jilt bride wed day inspir danger delus\n"
          ]
        }
      ]
    },
    {
      "cell_type": "code",
      "metadata": {
        "id": "xhRzqThEFLpl"
      },
      "source": [
        "df['text'] = corpus"
      ],
      "execution_count": null,
      "outputs": []
    },
    {
      "cell_type": "markdown",
      "metadata": {
        "id": "RUGtmhjDCrJJ"
      },
      "source": [
        "## **3. Build Our Training And Test Data**\n",
        "<body>\n",
        "<img src=\"https://clearmeasure.com/wp-content/uploads/2018/11/build-1159776_960_720.jpg\"/>\n",
        "</body>\n",
        "\n",
        "**In this section we are seperating our data between our X and y.**\n",
        "\n",
        "- X will be the data the model recieves and in turn makes a prediction.\n",
        "\n",
        "- y will be the data the model will compare its prediction to i.e. the data the model marks itself against\n",
        "\n",
        "**Then the data will be split into training data and test data.**\n",
        "\n",
        "Depending on how much data you have (the more the better), we split it into our training & test data. This means we create a training data to test data ratio between 0.7 to 0.3 and 0.8 to 0.2.\n",
        "\n",
        "We want to give our model plenty of data to learn from but we also need to give it enough unseen tests for it to accurately gauge its predictive ability.\n",
        "\n",
        "\n",
        "\n",
        "<details>\n",
        "  <summary>Parameters you can change:</summary>\n",
        "\n",
        "  - test_size - As stated before, this parameter will determine your training data to test data ratio.\n",
        "\n",
        "    -  0.5 means that we are creating a 50/50 split between training and test data\n",
        "    - 0.25 means that we are creating a 75/25 split between training and test data\n",
        "</details>"
      ]
    },
    {
      "cell_type": "code",
      "metadata": {
        "id": "YI18xioG8K7L"
      },
      "source": [
        "# Seperating the data and the label \n",
        "X = df['text']\n",
        "y = df['label']"
      ],
      "execution_count": null,
      "outputs": []
    },
    {
      "cell_type": "code",
      "metadata": {
        "id": "RE-qXNb_HMs0"
      },
      "source": [
        "# split data\n",
        "X_train, X_test, y_train, y_test = train_test_split(X, y, test_size=0.5, random_state=0)"
      ],
      "execution_count": null,
      "outputs": []
    },
    {
      "cell_type": "code",
      "metadata": {
        "colab": {
          "base_uri": "https://localhost:8080/"
        },
        "id": "orfZOkLWHMvX",
        "outputId": "2d695652-ce75-40b6-d78c-551ba7f2cf3b"
      },
      "source": [
        "print(\"Train size:\", X_train.shape)\n",
        "print(\"Test size:\", X_test.shape)"
      ],
      "execution_count": null,
      "outputs": [
        {
          "output_type": "stream",
          "name": "stdout",
          "text": [
            "Train size: (399,)\n",
            "Test size: (400,)\n"
          ]
        }
      ]
    },
    {
      "cell_type": "markdown",
      "metadata": {
        "id": "uelIYEytHv77"
      },
      "source": [
        "##**4. Create our Model**\n",
        "<body>\n",
        "<img src=\"https://scx2.b-cdn.net/gfx/news/hires/2019/howtoovercom.jpg\" width=\"870\"/>\n",
        "</body>\n",
        "\n",
        "For our fake news detection model, we will be using a logistic regression model.\n",
        "\n",
        "In simple terms,Logistic Regression is a statistical model used to model the probability of an event existing i.e. what is the probability that you will win or loose (in this example an article being real or fake)"
      ]
    },
    {
      "cell_type": "code",
      "metadata": {
        "id": "ZFrGD2ZWHMyu"
      },
      "source": [
        "def plot_confusion_matrix(y_actual, y_pred):\n",
        "    '''\n",
        "    This method plots confusion matrix.\n",
        "    '''\n",
        "    classes = ['Fake News', 'Real News']\n",
        "    tick_marks = np.arange(len(classes))\n",
        "\n",
        "    accuracy = accuracy_score(y_actual, y_pred)\n",
        "    print(\"Accuracy score:\", \"{:2.3}\".format(accuracy))\n",
        "\n",
        "    conf_matrix = confusion_matrix(y_actual, y_pred)\n",
        "\n",
        "    fig, ax = plt.subplots(figsize=(4, 4))\n",
        "    ax.matshow(conf_matrix, cmap=plt.cm.Reds, alpha=0.3)\n",
        "    for i in range(conf_matrix.shape[0]):\n",
        "        for j in range(conf_matrix.shape[1]):\n",
        "            ax.text(x=j, y=i,s=conf_matrix[i, j], va='center', ha='center')\n",
        "    \n",
        "    plt.tight_layout()\n",
        "    plt.xticks(tick_marks , classes, rotation=0)\n",
        "    plt.yticks(tick_marks , classes)\n",
        "    plt.xlabel('Predictions')\n",
        "    plt.ylabel('Actuals')\n",
        "    plt.title('Confusion Matrix', fontsize=12)\n",
        "    plt.show()"
      ],
      "execution_count": null,
      "outputs": []
    },
    {
      "cell_type": "markdown",
      "metadata": {
        "id": "t7hRfPi3IGwX"
      },
      "source": [
        "### **TF-IDF Vectorizing**\n",
        "<body>\n",
        "<img src=\"https://miro.medium.com/max/1400/1*qQgnyPLDIkUmeZKN2_ZWbQ.png\" width=\"870\"/>\n",
        "</body>\n",
        "\n",
        "\n",
        "In similar terms as the image says above, **TF-IDF** (**Term Frequency- Inverse Document Frequency**), is a numerical statistic reflecting how important a word is to a document in a collection. We can use this to pick out words that appear to be important in our test article. These will be used as our features - words that the model will use to learn if an article is fake or not.\n",
        "\n",
        "\n",
        "**Don't worry you don't have to know any formulas for this!!**\n",
        "\n",
        "\n",
        "<details>\n",
        "  <summary>Parameters you can change:</summary>\n",
        "\n",
        "  - n_gram - This parameter picks out our features in ranges from 1 to n (1,n). \n",
        "\n",
        "    -  (1,1) means that only one word features will be extracted and used as features.\n",
        "    -  (1,2) means that one word and two word terms will be extracted and used as features.\n",
        "    -  (1,2) means that one word, two word and three word terms will be extracted and used as features.\n",
        "\n",
        "**Example**\n",
        "\n",
        "  Text = \"I am writing this text as an example to show you the importance of tf-idf vectorizers\"\n",
        "  1. n_gram(1,1) might pick out words like [\"writing\",\"example\"...] etc\n",
        "\n",
        "  2. n_gram(1,2) might pick out words like [\"writing\", \"writing this\",\"example\"...] etc\n",
        "\n",
        "  3. ne_gram(1,3) might pick out words like [\"importance\", importance of\", importance of tf-idf\"...] etc\n",
        "</details>"
      ]
    },
    {
      "cell_type": "code",
      "metadata": {
        "colab": {
          "base_uri": "https://localhost:8080/"
        },
        "id": "9YuhvC-wc-fF",
        "outputId": "26c9c978-3117-420a-b676-950f55c1124d"
      },
      "source": [
        "#test out n_gram range\n",
        "tfidf = TfidfVectorizer(stop_words='english', ngram_range=(1,3))\n",
        "tfidf.fit(X) # adjust our vectorizer to the data we have\n",
        "\n",
        "#Now convert the data into their tfidf representations\n",
        "X_train_cv = tfidf.transform(X_train)\n",
        "X_test_cv = tfidf.transform(X_test)\n",
        "\n",
        "len(tfidf.get_feature_names())"
      ],
      "execution_count": null,
      "outputs": [
        {
          "output_type": "stream",
          "name": "stderr",
          "text": [
            "/usr/local/lib/python3.7/dist-packages/sklearn/utils/deprecation.py:87: FutureWarning: Function get_feature_names is deprecated; get_feature_names is deprecated in 1.0 and will be removed in 1.2. Please use get_feature_names_out instead.\n",
            "  warnings.warn(msg, category=FutureWarning)\n"
          ]
        },
        {
          "output_type": "execute_result",
          "data": {
            "text/plain": [
              "593452"
            ]
          },
          "metadata": {},
          "execution_count": 45
        }
      ]
    },
    {
      "cell_type": "code",
      "metadata": {
        "colab": {
          "base_uri": "https://localhost:8080/"
        },
        "id": "KxQwamvXHM26",
        "outputId": "70d321be-b69b-48b8-a5f2-9549973cd0b9"
      },
      "source": [
        "# Create our logistic regression object/model object and fit it to our training data\n",
        "model = LogisticRegression()\n",
        "model.fit(X_train_cv, y_train)"
      ],
      "execution_count": null,
      "outputs": [
        {
          "output_type": "execute_result",
          "data": {
            "text/plain": [
              "LogisticRegression()"
            ]
          },
          "metadata": {},
          "execution_count": 46
        }
      ]
    },
    {
      "cell_type": "code",
      "metadata": {
        "id": "KHokE_9iHM5C"
      },
      "source": [
        "#predict on training data\n",
        "X_train_predict = model.predict(X_train_cv)\n",
        "#Let's see our training accuracy\n",
        "train_accuracy = accuracy_score(y_train, X_train_predict)\n",
        "\n",
        "#predict on our test data\n",
        "X_test_predict = model.predict(X_test_cv)\n",
        "#Let's see our test accuracy\n",
        "test_accuracy = accuracy_score(y_test, X_test_predict)"
      ],
      "execution_count": null,
      "outputs": []
    },
    {
      "cell_type": "code",
      "metadata": {
        "id": "W0y4Pf9lHM7v"
      },
      "source": [
        "accuracy = accuracy_score(y_test, X_test_predict)\n",
        "LR_TF_TFIDF = {'Vectorizer': 'TF-IDF', 'Algorithm': 'Logistic_Regression_1', \n",
        "               'Train Accuracy':train_accuracy, 'Test Accuracy':test_accuracy}"
      ],
      "execution_count": null,
      "outputs": []
    },
    {
      "cell_type": "code",
      "metadata": {
        "colab": {
          "base_uri": "https://localhost:8080/"
        },
        "id": "90yghsbnZ3Mu",
        "outputId": "4b94be04-bbdf-4528-afe0-b64bba3cddd3"
      },
      "source": [
        "LR_TF_TFIDF"
      ],
      "execution_count": null,
      "outputs": [
        {
          "output_type": "execute_result",
          "data": {
            "text/plain": [
              "{'Algorithm': 'Logistic_Regression_1',\n",
              " 'Test Accuracy': 0.85,\n",
              " 'Train Accuracy': 1.0,\n",
              " 'Vectorizer': 'TF-IDF'}"
            ]
          },
          "metadata": {},
          "execution_count": 49
        }
      ]
    },
    {
      "cell_type": "markdown",
      "metadata": {
        "id": "V1SMqa1XakUu"
      },
      "source": [
        "Understanding our model's performance with a confusion matrix helps us to see exactly how our model performed.\n",
        "A confusion helps to identify where the model made false positives and false negatives compared to the correct answers."
      ]
    },
    {
      "cell_type": "code",
      "metadata": {
        "colab": {
          "base_uri": "https://localhost:8080/",
          "height": 337
        },
        "id": "5jF6OOGgHM9x",
        "outputId": "ffcdcaaa-726d-44ee-b8fb-358ac11c40fe"
      },
      "source": [
        "# plot confusion matrix on test\n",
        "plot_confusion_matrix(y_test, X_test_predict)"
      ],
      "execution_count": null,
      "outputs": [
        {
          "output_type": "stream",
          "name": "stdout",
          "text": [
            "Accuracy score: 0.85\n"
          ]
        },
        {
          "output_type": "display_data",
          "data": {
            "image/png": "[encoded data removed]",
            "text/plain": [
              "<Figure size 288x288 with 1 Axes>"
            ]
          },
          "metadata": {
            "needs_background": "light"
          }
        }
      ]
    },
    {
      "cell_type": "markdown",
      "metadata": {
        "id": "fZWg7nHCu4c0"
      },
      "source": [
        "## **5. Test our model**\n",
        "\n",
        "Let us test our model with our own examples and some examples from the training and test data!"
      ]
    },
    {
      "cell_type": "code",
      "metadata": {
        "id": "8ZJd5ZpPZ698"
      },
      "source": [
        "def classify_message(text):\n",
        "    text = tfidf.transform(text)\n",
        "    predicted = model.predict(text)\n",
        "    probability = model.predict_proba(text).max()*100\n",
        "\n",
        "    if predicted==0:\n",
        "      print(\" I am \"+ str(round(probability))+\"% sure that this is not Fake news\")\n",
        "    else:\n",
        "      print(\" I am \"+ str(round(probability))+\"% sure that this news is Fake\")"
      ],
      "execution_count": null,
      "outputs": []
    },
    {
      "cell_type": "code",
      "metadata": {
        "id": "upy3cuc-gT_Z"
      },
      "source": [
        "test2 = [\"Share a certain post of Bill Gates on Facebook and he will send you money.\"]"
      ],
      "execution_count": null,
      "outputs": []
    },
    {
      "cell_type": "code",
      "metadata": {
        "colab": {
          "base_uri": "https://localhost:8080/"
        },
        "id": "18BQ25vvgax0",
        "outputId": "bd14564d-0373-4830-b1be-999b1471c398"
      },
      "source": [
        "classify_message(test2)"
      ],
      "execution_count": null,
      "outputs": [
        {
          "output_type": "stream",
          "name": "stdout",
          "text": [
            " I am 55% sure that this news is Fake\n"
          ]
        }
      ]
    },
    {
      "cell_type": "code",
      "metadata": {
        "colab": {
          "base_uri": "https://localhost:8080/",
          "height": 423
        },
        "id": "DcD77847aA_d",
        "outputId": "96a8e3d1-2897-422b-f32d-205c0eb83e35"
      },
      "source": [
        "df[['title','text','label']]"
      ],
      "execution_count": null,
      "outputs": [
        {
          "output_type": "execute_result",
          "data": {
            "text/html": [
              "<div>\n",
              "<style scoped>\n",
              "    .dataframe tbody tr th:only-of-type {\n",
              "        vertical-align: middle;\n",
              "    }\n",
              "\n",
              "    .dataframe tbody tr th {\n",
              "        vertical-align: top;\n",
              "    }\n",
              "\n",
              "    .dataframe thead th {\n",
              "        text-align: right;\n",
              "    }\n",
              "</style>\n",
              "<table border=\"1\" class=\"dataframe\">\n",
              "  <thead>\n",
              "    <tr style=\"text-align: right;\">\n",
              "      <th></th>\n",
              "      <th>title</th>\n",
              "      <th>text</th>\n",
              "      <th>label</th>\n",
              "    </tr>\n",
              "  </thead>\n",
              "  <tbody>\n",
              "    <tr>\n",
              "      <th>0</th>\n",
              "      <td>House Dem Aide: We Didn’t Even See Comey’s Let...</td>\n",
              "      <td>hous dem aid even see comey letter jason chaff...</td>\n",
              "      <td>1</td>\n",
              "    </tr>\n",
              "    <tr>\n",
              "      <th>1</th>\n",
              "      <td>FLYNN: Hillary Clinton, Big Woman on Campus - ...</td>\n",
              "      <td>ever get feel life circl roundabout rather hea...</td>\n",
              "      <td>0</td>\n",
              "    </tr>\n",
              "    <tr>\n",
              "      <th>2</th>\n",
              "      <td>Why the Truth Might Get You Fired</td>\n",
              "      <td>truth might get fire octob tension intellig an...</td>\n",
              "      <td>1</td>\n",
              "    </tr>\n",
              "    <tr>\n",
              "      <th>3</th>\n",
              "      <td>15 Civilians Killed In Single US Airstrike Hav...</td>\n",
              "      <td>video civilian kill singl us airstrik identifi...</td>\n",
              "      <td>1</td>\n",
              "    </tr>\n",
              "    <tr>\n",
              "      <th>4</th>\n",
              "      <td>Iranian woman jailed for fictional unpublished...</td>\n",
              "      <td>print iranian woman sentenc six year prison ir...</td>\n",
              "      <td>1</td>\n",
              "    </tr>\n",
              "    <tr>\n",
              "      <th>...</th>\n",
              "      <td>...</td>\n",
              "      <td>...</td>\n",
              "      <td>...</td>\n",
              "    </tr>\n",
              "    <tr>\n",
              "      <th>803</th>\n",
              "      <td>North Korean Is Arrested in Killing of Kim Jon...</td>\n",
              "      <td>kuala lumpur malaysia man north korea arrest a...</td>\n",
              "      <td>0</td>\n",
              "    </tr>\n",
              "    <tr>\n",
              "      <th>804</th>\n",
              "      <td>SURGEONS ADMIT THAT MAMMOGRAPHY IS OUTDATED AN...</td>\n",
              "      <td>home health surgeon admit mammographi outdat h...</td>\n",
              "      <td>1</td>\n",
              "    </tr>\n",
              "    <tr>\n",
              "      <th>805</th>\n",
              "      <td>Le terrorisme régional protège Israël</td>\n",
              "      <td>le terrorism r gional vise prot ger le int r t...</td>\n",
              "      <td>1</td>\n",
              "    </tr>\n",
              "    <tr>\n",
              "      <th>806</th>\n",
              "      <td>WAR ON THE STREETS OF PARIS: Armed migrants fi...</td>\n",
              "      <td>wmw admin novemb nick gutteridg daili express ...</td>\n",
              "      <td>1</td>\n",
              "    </tr>\n",
              "    <tr>\n",
              "      <th>807</th>\n",
              "      <td>Oscar Voter: Meryl Streep Only Nominated for A...</td>\n",
              "      <td>one brutal honest oscar voter say nomine meryl...</td>\n",
              "      <td>0</td>\n",
              "    </tr>\n",
              "  </tbody>\n",
              "</table>\n",
              "<p>799 rows × 3 columns</p>\n",
              "</div>"
            ],
            "text/plain": [
              "                                                 title  ... label\n",
              "0    House Dem Aide: We Didn’t Even See Comey’s Let...  ...     1\n",
              "1    FLYNN: Hillary Clinton, Big Woman on Campus - ...  ...     0\n",
              "2                    Why the Truth Might Get You Fired  ...     1\n",
              "3    15 Civilians Killed In Single US Airstrike Hav...  ...     1\n",
              "4    Iranian woman jailed for fictional unpublished...  ...     1\n",
              "..                                                 ...  ...   ...\n",
              "803  North Korean Is Arrested in Killing of Kim Jon...  ...     0\n",
              "804  SURGEONS ADMIT THAT MAMMOGRAPHY IS OUTDATED AN...  ...     1\n",
              "805              Le terrorisme régional protège Israël  ...     1\n",
              "806  WAR ON THE STREETS OF PARIS: Armed migrants fi...  ...     1\n",
              "807  Oscar Voter: Meryl Streep Only Nominated for A...  ...     0\n",
              "\n",
              "[799 rows x 3 columns]"
            ]
          },
          "metadata": {},
          "execution_count": 54
        }
      ]
    },
    {
      "cell_type": "code",
      "metadata": {
        "colab": {
          "base_uri": "https://localhost:8080/"
        },
        "id": "h_nz06JKaIwy",
        "outputId": "5d64a8f7-4322-4e1a-fc7a-9b260d78bb0d"
      },
      "source": [
        "classify_message([df['text'][1]])"
      ],
      "execution_count": null,
      "outputs": [
        {
          "output_type": "stream",
          "name": "stdout",
          "text": [
            " I am 53% sure that this news is Fake\n"
          ]
        }
      ]
    },
    {
      "cell_type": "markdown",
      "metadata": {
        "id": "h7oFIyJreL08"
      },
      "source": [
        "###**Apply it to our test data**\n"
      ]
    },
    {
      "cell_type": "code",
      "metadata": {
        "id": "mwlLl20bfGl2"
      },
      "source": [
        "def classify_message(text):\n",
        "    text = tfidf.transform(text)\n",
        "    predicted = model.predict(text)\n",
        "    probability = model.predict_proba(text).max()*100\n",
        "\n",
        "    if predicted==0:\n",
        "      return(\"Not Fake\")\n",
        "    else:\n",
        "      return(\"Fake\")"
      ],
      "execution_count": null,
      "outputs": []
    },
    {
      "cell_type": "code",
      "metadata": {
        "id": "4DOZQaWhfYFm"
      },
      "source": [
        "def prediciton_score(text):\n",
        "    text = tfidf.transform(text)\n",
        "    predicted = model.predict(text)\n",
        "    return predicted"
      ],
      "execution_count": null,
      "outputs": []
    },
    {
      "cell_type": "code",
      "metadata": {
        "id": "fXJwQav7eWYY"
      },
      "source": [
        "#create a new column called prediction with no data\n",
        "test_data['prediction'] = \" \"\n",
        "#create a new column called prediction_score with no data\n",
        "test_data['prediction_score'] = \" \""
      ],
      "execution_count": null,
      "outputs": []
    },
    {
      "cell_type": "code",
      "metadata": {
        "id": "J3Fw7LXDf2TA"
      },
      "source": [
        "test_data = test_data.fillna('')"
      ],
      "execution_count": null,
      "outputs": []
    },
    {
      "cell_type": "code",
      "metadata": {
        "id": "7mhKy2eBePzG"
      },
      "source": [
        "#create a for loop which takes in data from the text column and returns a prediction as to whether the news is fake or not\n",
        "for i in range (len(test_data)):\n",
        "  test_data['prediction'][i] = classify_message([test_data['text'][i]])\n",
        "  test_data['prediction_score'][i] = prediciton_score([test_data['text'][i]])"
      ],
      "execution_count": null,
      "outputs": []
    },
    {
      "cell_type": "code",
      "metadata": {
        "colab": {
          "base_uri": "https://localhost:8080/",
          "height": 545
        },
        "id": "pXD4HJlXf4Ku",
        "outputId": "0b979ed4-bb3c-4886-c6dc-63a57b76b1f5"
      },
      "source": [
        "test_data"
      ],
      "execution_count": null,
      "outputs": [
        {
          "output_type": "execute_result",
          "data": {
            "text/html": [
              "<div>\n",
              "<style scoped>\n",
              "    .dataframe tbody tr th:only-of-type {\n",
              "        vertical-align: middle;\n",
              "    }\n",
              "\n",
              "    .dataframe tbody tr th {\n",
              "        vertical-align: top;\n",
              "    }\n",
              "\n",
              "    .dataframe thead th {\n",
              "        text-align: right;\n",
              "    }\n",
              "</style>\n",
              "<table border=\"1\" class=\"dataframe\">\n",
              "  <thead>\n",
              "    <tr style=\"text-align: right;\">\n",
              "      <th></th>\n",
              "      <th>id</th>\n",
              "      <th>title</th>\n",
              "      <th>author</th>\n",
              "      <th>text</th>\n",
              "      <th>prediction</th>\n",
              "      <th>prediction_score</th>\n",
              "    </tr>\n",
              "  </thead>\n",
              "  <tbody>\n",
              "    <tr>\n",
              "      <th>0</th>\n",
              "      <td>20800</td>\n",
              "      <td>Specter of Trump Loosens Tongues, if Not Purse...</td>\n",
              "      <td>David Streitfeld</td>\n",
              "      <td>PALO ALTO, Calif.  —   After years of scorning...</td>\n",
              "      <td>Not Fake</td>\n",
              "      <td>[0]</td>\n",
              "    </tr>\n",
              "    <tr>\n",
              "      <th>1</th>\n",
              "      <td>20801</td>\n",
              "      <td>Russian warships ready to strike terrorists ne...</td>\n",
              "      <td></td>\n",
              "      <td>Russian warships ready to strike terrorists ne...</td>\n",
              "      <td>Fake</td>\n",
              "      <td>[1]</td>\n",
              "    </tr>\n",
              "    <tr>\n",
              "      <th>2</th>\n",
              "      <td>20802</td>\n",
              "      <td>#NoDAPL: Native American Leaders Vow to Stay A...</td>\n",
              "      <td>Common Dreams</td>\n",
              "      <td>Videos #NoDAPL: Native American Leaders Vow to...</td>\n",
              "      <td>Not Fake</td>\n",
              "      <td>[0]</td>\n",
              "    </tr>\n",
              "    <tr>\n",
              "      <th>3</th>\n",
              "      <td>20803</td>\n",
              "      <td>Tim Tebow Will Attempt Another Comeback, This ...</td>\n",
              "      <td>Daniel Victor</td>\n",
              "      <td>If at first you don’t succeed, try a different...</td>\n",
              "      <td>Not Fake</td>\n",
              "      <td>[0]</td>\n",
              "    </tr>\n",
              "    <tr>\n",
              "      <th>4</th>\n",
              "      <td>20804</td>\n",
              "      <td>Keiser Report: Meme Wars (E995)</td>\n",
              "      <td>Truth Broadcast Network</td>\n",
              "      <td>42 mins ago 1 Views 0 Comments 0 Likes 'For th...</td>\n",
              "      <td>Fake</td>\n",
              "      <td>[1]</td>\n",
              "    </tr>\n",
              "    <tr>\n",
              "      <th>...</th>\n",
              "      <td>...</td>\n",
              "      <td>...</td>\n",
              "      <td>...</td>\n",
              "      <td>...</td>\n",
              "      <td>...</td>\n",
              "      <td>...</td>\n",
              "    </tr>\n",
              "    <tr>\n",
              "      <th>650</th>\n",
              "      <td>21450</td>\n",
              "      <td>Scientists Told To ‘Remain Silent’ On Glyphosa...</td>\n",
              "      <td>Starkman</td>\n",
              "      <td>The World Health Organization (WHO) have told ...</td>\n",
              "      <td>Not Fake</td>\n",
              "      <td>[0]</td>\n",
              "    </tr>\n",
              "    <tr>\n",
              "      <th>651</th>\n",
              "      <td>21451</td>\n",
              "      <td>Michael Moore Owes Me $4.99</td>\n",
              "      <td>shorty</td>\n",
              "      <td>Where to Invade Next Official Trailer 1 (2016)...</td>\n",
              "      <td>Fake</td>\n",
              "      <td>[1]</td>\n",
              "    </tr>\n",
              "    <tr>\n",
              "      <th>652</th>\n",
              "      <td>21452</td>\n",
              "      <td>Rare ’Pink Star’ Diamond Becomes Priciest Diam...</td>\n",
              "      <td>Katherine Rodriguez</td>\n",
              "      <td>A 59. 6 carat pink diamond broke the world rec...</td>\n",
              "      <td>Not Fake</td>\n",
              "      <td>[0]</td>\n",
              "    </tr>\n",
              "    <tr>\n",
              "      <th>653</th>\n",
              "      <td>21453</td>\n",
              "      <td>Mom Has Powerful Response for Haters Who Say D...</td>\n",
              "      <td>Prudence Hill</td>\n",
              "      <td>Share on Twitter \\nSonia Morales didn't hesita...</td>\n",
              "      <td>Not Fake</td>\n",
              "      <td>[0]</td>\n",
              "    </tr>\n",
              "    <tr>\n",
              "      <th>654</th>\n",
              "      <td>21454</td>\n",
              "      <td>Jeff Sessions: Justice Dept. Under Trump Has ’...</td>\n",
              "      <td>Ian Mason</td>\n",
              "      <td>Attorney General Jeff Sessions met with leader...</td>\n",
              "      <td>Not Fake</td>\n",
              "      <td>[0]</td>\n",
              "    </tr>\n",
              "  </tbody>\n",
              "</table>\n",
              "<p>655 rows × 6 columns</p>\n",
              "</div>"
            ],
            "text/plain": [
              "        id  ... prediction_score\n",
              "0    20800  ...              [0]\n",
              "1    20801  ...              [1]\n",
              "2    20802  ...              [0]\n",
              "3    20803  ...              [0]\n",
              "4    20804  ...              [1]\n",
              "..     ...  ...              ...\n",
              "650  21450  ...              [0]\n",
              "651  21451  ...              [1]\n",
              "652  21452  ...              [0]\n",
              "653  21453  ...              [0]\n",
              "654  21454  ...              [0]\n",
              "\n",
              "[655 rows x 6 columns]"
            ]
          },
          "metadata": {},
          "execution_count": 61
        }
      ]
    }
  ]
}